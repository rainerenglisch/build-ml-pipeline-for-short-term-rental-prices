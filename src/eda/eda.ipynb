{
 "cells": [
  {
   "cell_type": "code",
   "execution_count": 2,
   "metadata": {},
   "outputs": [],
   "source": [
    "# import needed libraries\n",
    "from pandas_profiling import ProfileReport\n",
    "import pandas as pd\n",
    "#import os\n",
    "import wandb\n",
    "#import hydra\n",
    "#from omegaconf import DictConfig\n"
   ]
  },
  {
   "cell_type": "code",
   "execution_count": 5,
   "metadata": {},
   "outputs": [
    {
     "name": "stderr",
     "output_type": "stream",
     "text": [
      "\u001b[34m\u001b[1mwandb\u001b[0m: Currently logged in as: \u001b[33mrainerenglisch\u001b[0m (use `wandb login --relogin` to force relogin)\n",
      "\u001b[34m\u001b[1mwandb\u001b[0m: wandb version 0.13.1 is available!  To upgrade, please run:\n",
      "\u001b[34m\u001b[1mwandb\u001b[0m:  $ pip install wandb --upgrade\n"
     ]
    },
    {
     "data": {
      "text/html": [
       "\n",
       "                Tracking run with wandb version 0.10.31<br/>\n",
       "                Syncing run <strong style=\"color:#cdcd00\">legendary-bird-6</strong> to <a href=\"https://wandb.ai\" target=\"_blank\">Weights & Biases</a> <a href=\"https://docs.wandb.com/integrations/jupyter.html\" target=\"_blank\">(Documentation)</a>.<br/>\n",
       "                Project page: <a href=\"https://wandb.ai/rainerenglisch/nyc_airbnb\" target=\"_blank\">https://wandb.ai/rainerenglisch/nyc_airbnb</a><br/>\n",
       "                Run page: <a href=\"https://wandb.ai/rainerenglisch/nyc_airbnb/runs/2wxt0967\" target=\"_blank\">https://wandb.ai/rainerenglisch/nyc_airbnb/runs/2wxt0967</a><br/>\n",
       "                Run data is saved locally in <code>/Users/A3847116/Library/CloudStorage/OneDrive-DeutscheTelekomAG/dev/training/udacity_mldevops/build-ml-pipeline-for-short-term-rental-prices/src/eda/wandb/run-20220816_111127-2wxt0967</code><br/><br/>\n",
       "            "
      ],
      "text/plain": [
       "<IPython.core.display.HTML object>"
      ]
     },
     "metadata": {},
     "output_type": "display_data"
    }
   ],
   "source": [
    "# connect to weights and biases and create a run\n",
    "run = wandb.init(job_type=\"notebook_eda\", project=\"nyc_airbnb\", group=\"eda\", save_code=True)\n",
    "# download the training data as csv file\n",
    "local_path = wandb.use_artifact(\"sample.csv:latest\").file()\n",
    "# read it and provide it as pandas dataframe\n",
    "df = pd.read_csv(local_path)"
   ]
  },
  {
   "cell_type": "code",
   "execution_count": 6,
   "metadata": {},
   "outputs": [
    {
     "data": {
      "application/vnd.jupyter.widget-view+json": {
       "model_id": "13c461db58854d62a7650ce618ba20eb",
       "version_major": 2,
       "version_minor": 0
      },
      "text/plain": [
       "Summarize dataset:   0%|          | 0/5 [00:00<?, ?it/s]"
      ]
     },
     "metadata": {},
     "output_type": "display_data"
    },
    {
     "data": {
      "application/vnd.jupyter.widget-view+json": {
       "model_id": "88fa14c28b99476bb47600e7228f9356",
       "version_major": 2,
       "version_minor": 0
      },
      "text/plain": [
       "Generate report structure:   0%|          | 0/1 [00:00<?, ?it/s]"
      ]
     },
     "metadata": {},
     "output_type": "display_data"
    },
    {
     "data": {
      "application/vnd.jupyter.widget-view+json": {
       "model_id": "65b79a3fbca2468caa3046f7f7f5cac0",
       "version_major": 2,
       "version_minor": 0
      },
      "text/plain": [
       "Render widgets:   0%|          | 0/1 [00:00<?, ?it/s]"
      ]
     },
     "metadata": {},
     "output_type": "display_data"
    },
    {
     "data": {
      "application/vnd.jupyter.widget-view+json": {
       "model_id": "a9d8bd32ebd14f62b8830771419080f6",
       "version_major": 2,
       "version_minor": 0
      },
      "text/plain": [
       "VBox(children=(Tab(children=(Tab(children=(GridBox(children=(VBox(children=(GridspecLayout(children=(HTML(valu…"
      ]
     },
     "metadata": {},
     "output_type": "display_data"
    }
   ],
   "source": [
    "# create a profiling report\n",
    "profile = ProfileReport(df)\n",
    "# visualize profiling report\n",
    "profile.to_widgets()"
   ]
  },
  {
   "cell_type": "markdown",
   "metadata": {},
   "source": [
    "- Understand what each feature means\n",
    "- Univariate analysis to verify that our expectation on that feature matches reality\n",
    "- Bivariate analysis where we look for correlations\n",
    "- Anomaly detection\n",
    "- Missing values handling"
   ]
  },
  {
   "cell_type": "markdown",
   "metadata": {},
   "source": []
  },
  {
   "cell_type": "markdown",
   "metadata": {},
   "source": []
  },
  {
   "cell_type": "code",
   "execution_count": 7,
   "metadata": {},
   "outputs": [],
   "source": [
    "# Drop outliers of price feature\n",
    "min_price = 10\n",
    "max_price = 350\n",
    "idx = df['price'].between(min_price, max_price)\n",
    "df = df[idx].copy()\n",
    "# Convert last_review to datetime\n",
    "df['last_review'] = pd.to_datetime(df['last_review'])"
   ]
  },
  {
   "cell_type": "code",
   "execution_count": 10,
   "metadata": {},
   "outputs": [
    {
     "name": "stdout",
     "output_type": "stream",
     "text": [
      "<class 'pandas.core.frame.DataFrame'>\n",
      "Int64Index: 19001 entries, 0 to 19999\n",
      "Data columns (total 16 columns):\n",
      " #   Column                          Non-Null Count  Dtype         \n",
      "---  ------                          --------------  -----         \n",
      " 0   id                              19001 non-null  int64         \n",
      " 1   host_id                         19001 non-null  int64         \n",
      " 2   latitude                        19001 non-null  float64       \n",
      " 3   longitude                       19001 non-null  float64       \n",
      " 4   price                           19001 non-null  int64         \n",
      " 5   minimum_nights                  19001 non-null  int64         \n",
      " 6   number_of_reviews               19001 non-null  int64         \n",
      " 7   last_review                     15243 non-null  datetime64[ns]\n",
      " 8   reviews_per_month               15243 non-null  float64       \n",
      " 9   calculated_host_listings_count  19001 non-null  int64         \n",
      " 10  availability_365                19001 non-null  int64         \n",
      " 11  name                            18994 non-null  category      \n",
      " 12  host_name                       18993 non-null  category      \n",
      " 13  neighbourhood_group             19001 non-null  category      \n",
      " 14  neighbourhood                   19001 non-null  category      \n",
      " 15  room_type                       19001 non-null  category      \n",
      "dtypes: category(5), datetime64[ns](1), float64(3), int64(7)\n",
      "memory usage: 2.7 MB\n"
     ]
    }
   ],
   "source": [
    "# Transform object features to categorical features\n",
    "df = pd.concat([\n",
    "        df.select_dtypes([], ['object']),\n",
    "        df.select_dtypes(['object']).apply(pd.Series.astype, dtype='category')\n",
    "        ], axis=1)#.reindex_axis(df.columns, axis=1)\n",
    "\n",
    "df.info()"
   ]
  },
  {
   "cell_type": "code",
   "execution_count": null,
   "metadata": {},
   "outputs": [],
   "source": [
    "run.finish()"
   ]
  }
 ],
 "metadata": {
  "kernelspec": {
   "display_name": "Python 3 (ipykernel)",
   "language": "python",
   "name": "python3"
  },
  "language_info": {
   "codemirror_mode": {
    "name": "ipython",
    "version": 3
   },
   "file_extension": ".py",
   "mimetype": "text/x-python",
   "name": "python",
   "nbconvert_exporter": "python",
   "pygments_lexer": "ipython3",
   "version": "3.9.13"
  },
  "vscode": {
   "interpreter": {
    "hash": "62b7132623c953f41be2c0679ae5960bec158c049d4b6facf7c0dbca266576d3"
   }
  }
 },
 "nbformat": 4,
 "nbformat_minor": 2
}
